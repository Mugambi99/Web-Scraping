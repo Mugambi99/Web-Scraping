{
 "cells": [
  {
   "cell_type": "markdown",
   "id": "ea812e49",
   "metadata": {},
   "source": [
    "### IMPLEMENTING THE SCRAPPER"
   ]
  },
  {
   "cell_type": "code",
   "execution_count": 177,
   "id": "f7e35896",
   "metadata": {},
   "outputs": [],
   "source": [
    "import bs4\n",
    "import requests\n",
    "from bs4 import BeautifulSoup"
   ]
  },
  {
   "cell_type": "code",
   "execution_count": 178,
   "id": "7b857ffb",
   "metadata": {},
   "outputs": [],
   "source": [
    "url=\"https://www.jumia.co.ke/cooking-oil/\""
   ]
  },
  {
   "cell_type": "code",
   "execution_count": 179,
   "id": "c55588ee",
   "metadata": {},
   "outputs": [],
   "source": [
    "headers={\n",
    "    \"User-Agent\":\"Mozilla/5.0 (Windows NT 10.0; Win64; x64) AppleWebKit/537.36 (KHTML, like Gecko) Chrome/109.0.0.0 Safari/537.36\"\n",
    "}"
   ]
  },
  {
   "cell_type": "code",
   "execution_count": 180,
   "id": "d541fc31",
   "metadata": {},
   "outputs": [],
   "source": [
    "r=requests.get(url,{\"Headers\":headers})"
   ]
  },
  {
   "cell_type": "code",
   "execution_count": 181,
   "id": "5e199d89",
   "metadata": {},
   "outputs": [],
   "source": [
    "soup=bs4.BeautifulSoup(r.text,\"html.parser\")"
   ]
  },
  {
   "cell_type": "code",
   "execution_count": 182,
   "id": "ffbff723",
   "metadata": {},
   "outputs": [],
   "source": [
    "results=soup.find_all('article',{\"class\":\"prd _fb col c-prd\"})"
   ]
  },
  {
   "cell_type": "code",
   "execution_count": 166,
   "id": "a8dc8d61",
   "metadata": {},
   "outputs": [],
   "source": [
    "a=soup.find_all('a',{\"class\":\"core\"})\n",
    "# print(a)"
   ]
  },
  {
   "cell_type": "code",
   "execution_count": 183,
   "id": "28192cd2",
   "metadata": {},
   "outputs": [],
   "source": [
    "def getproductname(soup):\n",
    "    names_list=[]\n",
    "#     name=results[0].find(\"h3\",{\"class\":\"name\"})\n",
    "    for i in results:\n",
    "        h3 = i.find(\"h3\",{\"class\":\"name\"})\n",
    "#         print(h3)\n",
    "        if h3:\n",
    "            product_name=h3.text\n",
    "            names_list.append(product_name)\n",
    "#             print (product_name)\n",
    "        else:\n",
    "            print(\"No h3 with class 'name' found\")\n",
    "            names_list.append('N/A')\n",
    "    return names_list"
   ]
  },
  {
   "cell_type": "code",
   "execution_count": 184,
   "id": "8adcceed",
   "metadata": {},
   "outputs": [
    {
     "data": {
      "text/plain": [
       "40"
      ]
     },
     "execution_count": 184,
     "metadata": {},
     "output_type": "execute_result"
    }
   ],
   "source": [
    "len(getproductname(soup))"
   ]
  },
  {
   "cell_type": "code",
   "execution_count": 185,
   "id": "70a493b1",
   "metadata": {},
   "outputs": [],
   "source": [
    "def getproductprice(soup):\n",
    "    price_list=[]\n",
    "    price1=results[0].find('div',{\"class\":\"prc\"}).text\n",
    "    for i in results:\n",
    "        divs = i.find_all('div',{\"class\":\"prc\"})\n",
    "        if divs:\n",
    "            price=divs[0].text\n",
    "            price_list.append(price)\n",
    "        else:\n",
    "            print(\"No divs with class 'prc' found\")\n",
    "            price_list.append('N/A')\n",
    "    return(price_list)"
   ]
  },
  {
   "cell_type": "code",
   "execution_count": 186,
   "id": "2c9ef047",
   "metadata": {
    "scrolled": true
   },
   "outputs": [
    {
     "data": {
      "text/plain": [
       "40"
      ]
     },
     "execution_count": 186,
     "metadata": {},
     "output_type": "execute_result"
    }
   ],
   "source": [
    "len(getproductprice(soup))"
   ]
  },
  {
   "cell_type": "code",
   "execution_count": 187,
   "id": "850056e6",
   "metadata": {},
   "outputs": [
    {
     "data": {
      "text/plain": [
       "'KSh 5,821'"
      ]
     },
     "execution_count": 187,
     "metadata": {},
     "output_type": "execute_result"
    }
   ],
   "source": [
    "# alternative code\n",
    "def getprice(soup):\n",
    "    price1=results[0].find('div',{\"class\":\"prc\"}).text\n",
    "    for i in results:\n",
    "        price=i.find('div',{\"class\":\"prc\"}).text\n",
    "#         print(price)\n",
    "    return(price)\n",
    "getprice(soup)"
   ]
  },
  {
   "cell_type": "code",
   "execution_count": 188,
   "id": "2163ddf7",
   "metadata": {},
   "outputs": [],
   "source": [
    "def getproductdiscount(soup):\n",
    "    discount1=results[1].find('div',{\"class\":\"bdg _dsct _sm\"}).text\n",
    "    discount_list=[]\n",
    "    for i in results:\n",
    "        discount = i.find('div',{\"class\":\"bdg _dsct _sm\"})\n",
    "        if discount:\n",
    "            discount=discount.text\n",
    "            discount_list.append(discount)\n",
    "        else:\n",
    "#             print(\"No discount with class 'bdg _dsct _sm' found\")\n",
    "            discount_list.append('N/A')\n",
    "    return(discount_list)"
   ]
  },
  {
   "cell_type": "code",
   "execution_count": 189,
   "id": "972fcffb",
   "metadata": {},
   "outputs": [
    {
     "data": {
      "text/plain": [
       "40"
      ]
     },
     "execution_count": 189,
     "metadata": {},
     "output_type": "execute_result"
    }
   ],
   "source": [
    "len(getproductdiscount(soup))"
   ]
  },
  {
   "cell_type": "code",
   "execution_count": 190,
   "id": "9785df0d",
   "metadata": {},
   "outputs": [],
   "source": [
    "def getproductratings(soup):\n",
    "#     discount1=results[1].find('div',{\"class\":\"bdg _dsct _sm\"}).text\n",
    "    ratings_list=[]\n",
    "    for i in results:\n",
    "        ratings = i.find('div',{\"class\":\"stars _s\"})\n",
    "        if ratings:\n",
    "            ratings=ratings.text\n",
    "            ratings_list.append(ratings)\n",
    "        else:\n",
    "#             print(\"No ratings with class 'stars _s' found\")\n",
    "            ratings_list.append('N/A')\n",
    "    return(ratings_list)"
   ]
  },
  {
   "cell_type": "code",
   "execution_count": 191,
   "id": "50173509",
   "metadata": {},
   "outputs": [
    {
     "data": {
      "text/plain": [
       "'4.6 out of 5'"
      ]
     },
     "execution_count": 191,
     "metadata": {},
     "output_type": "execute_result"
    }
   ],
   "source": [
    "getproductratings(soup)[0]"
   ]
  },
  {
   "cell_type": "code",
   "execution_count": 192,
   "id": "f40f3116",
   "metadata": {},
   "outputs": [],
   "source": [
    "name = getproductname(soup)\n",
    "price = getproductprice(soup)\n",
    "discount = getproductdiscount(soup)\n",
    "rating = getproductratings(soup)"
   ]
  },
  {
   "cell_type": "code",
   "execution_count": 193,
   "id": "abd494d2",
   "metadata": {},
   "outputs": [],
   "source": [
    "import pandas as pd \n",
    "jumuia_data=pd.DataFrame({'Name':name,\"Price\":price,\"Discount\":discount,'Rating':rating})\n",
    "jumuia_data.to_csv('jumia.csv',sep=',')"
   ]
  },
  {
   "cell_type": "markdown",
   "id": "2a002ecf",
   "metadata": {},
   "source": [
    "### SCRAPPING MULTIPLE PAGES"
   ]
  },
  {
   "cell_type": "code",
   "execution_count": 161,
   "id": "ff9a0ae0",
   "metadata": {},
   "outputs": [
    {
     "name": "stdout",
     "output_type": "stream",
     "text": [
      "https://www.jumia.co.ke/mlp-black-friday/?page=0#catalog-listing\n",
      "https://www.jumia.co.ke/mlp-black-friday/?page=1#catalog-listing\n",
      "https://www.jumia.co.ke/mlp-black-friday/?page=2#catalog-listing\n",
      "https://www.jumia.co.ke/mlp-black-friday/?page=3#catalog-listing\n",
      "https://www.jumia.co.ke/mlp-black-friday/?page=4#catalog-listing\n",
      "https://www.jumia.co.ke/mlp-black-friday/?page=5#catalog-listing\n",
      "https://www.jumia.co.ke/mlp-black-friday/?page=6#catalog-listing\n",
      "https://www.jumia.co.ke/mlp-black-friday/?page=7#catalog-listing\n",
      "https://www.jumia.co.ke/mlp-black-friday/?page=8#catalog-listing\n",
      "https://www.jumia.co.ke/mlp-black-friday/?page=9#catalog-listing\n"
     ]
    }
   ],
   "source": [
    "# How do you create multiple pages\n",
    "url_path = 'https://www.jumia.co.ke/mlp-black-friday/?page=2#catalog-listing'\n",
    "# Construct your own url paths\n",
    "a = 'https://www.jumia.co.ke/mlp-black-friday/?'\n",
    "b = 'page='\n",
    "c= '#catalog-listing'\n",
    "for i in range(0,10):\n",
    "    i = str(i)\n",
    "    path = a+b+i+c\n",
    "    print(path)"
   ]
  },
  {
   "cell_type": "code",
   "execution_count": null,
   "id": "449eaf43",
   "metadata": {},
   "outputs": [],
   "source": []
  },
  {
   "cell_type": "markdown",
   "id": "61d5c5ef",
   "metadata": {},
   "source": [
    "### ALTERNANTIVE TO WRITTING THE FILE TO CSV"
   ]
  },
  {
   "cell_type": "code",
   "execution_count": 160,
   "id": "7998ecd6",
   "metadata": {},
   "outputs": [],
   "source": [
    "# name = getproductname(soup)\n",
    "# price = getproductprice(soup)\n",
    "# discount = getproductdiscount(soup)\n",
    "# rating = getproductratings(soup)\n",
    "# list_of_lists = [name,price,discount,rating]\n",
    "# print(list_of_lists)\n",
    "# productList = []\n",
    "# productList.append(getproductname(soup))\n",
    "# productPrice = []\n",
    "# productPrice.append(getproductprice(soup))\n",
    "# productDiscount = []\n",
    "# productDiscount.append(getproductdiscount(soup))\n",
    "# productRatings = []\n",
    "# productRatings.append(getproductratings(soup))\n",
    "\n",
    "# list_of_lists = [productList, productPrice, productDiscount, productRatings]"
   ]
  },
  {
   "cell_type": "code",
   "execution_count": 111,
   "id": "16c5a038",
   "metadata": {},
   "outputs": [
    {
     "name": "stdout",
     "output_type": "stream",
     "text": [
      "[['Pietro Coricelli Extra Virgin Olive Oil- 1Litre.'], ['KSh 1,950'], ['28%'], [None]]\n"
     ]
    }
   ],
   "source": [
    "print(list_of_lists)\n"
   ]
  },
  {
   "cell_type": "code",
   "execution_count": 150,
   "id": "bf5bf227",
   "metadata": {},
   "outputs": [
    {
     "name": "stdout",
     "output_type": "stream",
     "text": [
      "Done! All products have been added to CSV file\n"
     ]
    }
   ],
   "source": [
    "## Save and review the product data\n",
    "with open('jumia_products.csv', 'w', newline=\"\") as jumia_file:\n",
    "    fieldnames2 = [\"name\", \"price\", \"discount\", \"rating\"]\n",
    "#     print(fieldnames2)\n",
    "    fieldnames = [name, price, discount, rating]\n",
    "#     print(fieldnames)\n",
    "    \n",
    "    csvwriter = csv.writer(jumia_file)\n",
    "    csvwriter.writerow(fieldnames2)\n",
    "    csvwriter.writerow(fieldnames)\n",
    "    \n",
    "    #loop through product list to update csv file\n",
    "    for product in fieldnames:\n",
    "#         print(product)\n",
    "        jumia_file = csvwriter.writerow(product)\n",
    "        \n",
    "    print(\"Done! All products have been added to CSV file\")\n",
    "#     return jumia_file"
   ]
  },
  {
   "cell_type": "code",
   "execution_count": 63,
   "id": "f6168d0d",
   "metadata": {},
   "outputs": [
    {
     "data": {
      "text/plain": [
       "['Fresh Fri Fresh Fri Triple Refined Vegetable Cooking Oil - 3 Litres',\n",
       " None,\n",
       " '28%',\n",
       " None]"
      ]
     },
     "execution_count": 63,
     "metadata": {},
     "output_type": "execute_result"
    }
   ],
   "source": [
    "[name, price, discount, rating]"
   ]
  },
  {
   "cell_type": "code",
   "execution_count": 151,
   "id": "36cb8d2d",
   "metadata": {},
   "outputs": [],
   "source": [
    "import csv"
   ]
  },
  {
   "cell_type": "code",
   "execution_count": 152,
   "id": "68d1e779",
   "metadata": {},
   "outputs": [],
   "source": [
    "jumia_products=list_of_lists\n",
    "fieldnames = [\"name\", \"price\", \"discount\", \"rating\"]\n",
    "with open('jumia_products.csv', 'w', newline=\"\") as jumia_file:\n",
    "    csvwriter = csv.writer(jumia_file)\n",
    "    csvwriter.writerow(fieldnames)\n",
    "\n",
    "    for product in jumia_products:\n",
    "        csvwriter.writerow(product)"
   ]
  },
  {
   "cell_type": "code",
   "execution_count": 153,
   "id": "087a5ca0",
   "metadata": {},
   "outputs": [],
   "source": [
    "import pandas as pd"
   ]
  },
  {
   "cell_type": "code",
   "execution_count": 155,
   "id": "ee983443",
   "metadata": {},
   "outputs": [
    {
     "data": {
      "text/html": [
       "<div>\n",
       "<style scoped>\n",
       "    .dataframe tbody tr th:only-of-type {\n",
       "        vertical-align: middle;\n",
       "    }\n",
       "\n",
       "    .dataframe tbody tr th {\n",
       "        vertical-align: top;\n",
       "    }\n",
       "\n",
       "    .dataframe thead th {\n",
       "        text-align: right;\n",
       "    }\n",
       "</style>\n",
       "<table border=\"1\" class=\"dataframe\">\n",
       "  <thead>\n",
       "    <tr style=\"text-align: right;\">\n",
       "      <th></th>\n",
       "      <th>name</th>\n",
       "      <th>price</th>\n",
       "      <th>discount</th>\n",
       "      <th>rating</th>\n",
       "    </tr>\n",
       "  </thead>\n",
       "  <tbody>\n",
       "    <tr>\n",
       "      <th>0</th>\n",
       "      <td>Pietro Coricelli Extra Virgin Olive Oil- 1Litre.</td>\n",
       "      <td>NaN</td>\n",
       "      <td>NaN</td>\n",
       "      <td>NaN</td>\n",
       "    </tr>\n",
       "    <tr>\n",
       "      <th>1</th>\n",
       "      <td>KSh 1,950</td>\n",
       "      <td>NaN</td>\n",
       "      <td>NaN</td>\n",
       "      <td>NaN</td>\n",
       "    </tr>\n",
       "    <tr>\n",
       "      <th>2</th>\n",
       "      <td>28%</td>\n",
       "      <td>NaN</td>\n",
       "      <td>NaN</td>\n",
       "      <td>NaN</td>\n",
       "    </tr>\n",
       "    <tr>\n",
       "      <th>3</th>\n",
       "      <td>NaN</td>\n",
       "      <td>NaN</td>\n",
       "      <td>NaN</td>\n",
       "      <td>NaN</td>\n",
       "    </tr>\n",
       "  </tbody>\n",
       "</table>\n",
       "</div>"
      ],
      "text/plain": [
       "                                               name  price  discount  rating\n",
       "0  Pietro Coricelli Extra Virgin Olive Oil- 1Litre.    NaN       NaN     NaN\n",
       "1                                         KSh 1,950    NaN       NaN     NaN\n",
       "2                                               28%    NaN       NaN     NaN\n",
       "3                                               NaN    NaN       NaN     NaN"
      ]
     },
     "execution_count": 155,
     "metadata": {},
     "output_type": "execute_result"
    }
   ],
   "source": [
    "jumia = pd.read_csv('jumia_products.csv')\n",
    "jumia"
   ]
  },
  {
   "cell_type": "code",
   "execution_count": null,
   "id": "802224b6",
   "metadata": {},
   "outputs": [],
   "source": []
  }
 ],
 "metadata": {
  "kernelspec": {
   "display_name": "Python 3 (ipykernel)",
   "language": "python",
   "name": "python3"
  },
  "language_info": {
   "codemirror_mode": {
    "name": "ipython",
    "version": 3
   },
   "file_extension": ".py",
   "mimetype": "text/x-python",
   "name": "python",
   "nbconvert_exporter": "python",
   "pygments_lexer": "ipython3",
   "version": "3.9.7"
  }
 },
 "nbformat": 4,
 "nbformat_minor": 5
}
